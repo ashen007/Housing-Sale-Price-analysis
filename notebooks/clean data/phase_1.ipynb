{
 "cells": [
  {
   "cell_type": "code",
   "execution_count": 1,
   "metadata": {
    "collapsed": true
   },
   "outputs": [],
   "source": [
    "import numpy as np\n",
    "import pandas as pd\n",
    "import seaborn as sns\n",
    "from missingno import matrix as mm\n",
    "from matplotlib import pyplot as plt"
   ]
  },
  {
   "cell_type": "code",
   "execution_count": 2,
   "outputs": [],
   "source": [
    "data = pd.read_csv('../../data/amsc.csv')\n",
    "house = pd.read_csv('../../data/train.csv')"
   ],
   "metadata": {
    "collapsed": false,
    "pycharm": {
     "name": "#%%\n"
    }
   }
  },
  {
   "cell_type": "code",
   "execution_count": 3,
   "outputs": [
    {
     "data": {
      "text/plain": "  RT  SERIALNO  SPORDER  PUMA  ST   ADJUST  PWGTP  AGEP  CIT  COW  ...  \\\n0  P       186        1   700  16  1015675     89    43    1  7.0  ...   \n1  P       186        2   700  16  1015675     92    42    1  4.0  ...   \n2  P       186        3   700  16  1015675    107    16    1  1.0  ...   \n3  P       186        4   700  16  1015675     91    14    1  NaN  ...   \n4  P       306        1   700  16  1015675    309    29    1  5.0  ...   \n\n   pwgtp71  pwgtp72  pwgtp73  pwgtp74  pwgtp75  pwgtp76  pwgtp77  pwgtp78  \\\n0       82       27       92      150       28       78       25       99   \n1       84       26       90      159       30       87       27       98   \n2       90       28       92      177       33      105       30      104   \n3       81       28       94      164       29       88       27      104   \n4      294      400       80      489      340      491      612      282   \n\n   pwgtp79  pwgtp80  \n0      159      129  \n1      167      131  \n2      206      156  \n3      156      138  \n4      462      259  \n\n[5 rows x 239 columns]",
      "text/html": "<div>\n<style scoped>\n    .dataframe tbody tr th:only-of-type {\n        vertical-align: middle;\n    }\n\n    .dataframe tbody tr th {\n        vertical-align: top;\n    }\n\n    .dataframe thead th {\n        text-align: right;\n    }\n</style>\n<table border=\"1\" class=\"dataframe\">\n  <thead>\n    <tr style=\"text-align: right;\">\n      <th></th>\n      <th>RT</th>\n      <th>SERIALNO</th>\n      <th>SPORDER</th>\n      <th>PUMA</th>\n      <th>ST</th>\n      <th>ADJUST</th>\n      <th>PWGTP</th>\n      <th>AGEP</th>\n      <th>CIT</th>\n      <th>COW</th>\n      <th>...</th>\n      <th>pwgtp71</th>\n      <th>pwgtp72</th>\n      <th>pwgtp73</th>\n      <th>pwgtp74</th>\n      <th>pwgtp75</th>\n      <th>pwgtp76</th>\n      <th>pwgtp77</th>\n      <th>pwgtp78</th>\n      <th>pwgtp79</th>\n      <th>pwgtp80</th>\n    </tr>\n  </thead>\n  <tbody>\n    <tr>\n      <th>0</th>\n      <td>P</td>\n      <td>186</td>\n      <td>1</td>\n      <td>700</td>\n      <td>16</td>\n      <td>1015675</td>\n      <td>89</td>\n      <td>43</td>\n      <td>1</td>\n      <td>7.0</td>\n      <td>...</td>\n      <td>82</td>\n      <td>27</td>\n      <td>92</td>\n      <td>150</td>\n      <td>28</td>\n      <td>78</td>\n      <td>25</td>\n      <td>99</td>\n      <td>159</td>\n      <td>129</td>\n    </tr>\n    <tr>\n      <th>1</th>\n      <td>P</td>\n      <td>186</td>\n      <td>2</td>\n      <td>700</td>\n      <td>16</td>\n      <td>1015675</td>\n      <td>92</td>\n      <td>42</td>\n      <td>1</td>\n      <td>4.0</td>\n      <td>...</td>\n      <td>84</td>\n      <td>26</td>\n      <td>90</td>\n      <td>159</td>\n      <td>30</td>\n      <td>87</td>\n      <td>27</td>\n      <td>98</td>\n      <td>167</td>\n      <td>131</td>\n    </tr>\n    <tr>\n      <th>2</th>\n      <td>P</td>\n      <td>186</td>\n      <td>3</td>\n      <td>700</td>\n      <td>16</td>\n      <td>1015675</td>\n      <td>107</td>\n      <td>16</td>\n      <td>1</td>\n      <td>1.0</td>\n      <td>...</td>\n      <td>90</td>\n      <td>28</td>\n      <td>92</td>\n      <td>177</td>\n      <td>33</td>\n      <td>105</td>\n      <td>30</td>\n      <td>104</td>\n      <td>206</td>\n      <td>156</td>\n    </tr>\n    <tr>\n      <th>3</th>\n      <td>P</td>\n      <td>186</td>\n      <td>4</td>\n      <td>700</td>\n      <td>16</td>\n      <td>1015675</td>\n      <td>91</td>\n      <td>14</td>\n      <td>1</td>\n      <td>NaN</td>\n      <td>...</td>\n      <td>81</td>\n      <td>28</td>\n      <td>94</td>\n      <td>164</td>\n      <td>29</td>\n      <td>88</td>\n      <td>27</td>\n      <td>104</td>\n      <td>156</td>\n      <td>138</td>\n    </tr>\n    <tr>\n      <th>4</th>\n      <td>P</td>\n      <td>306</td>\n      <td>1</td>\n      <td>700</td>\n      <td>16</td>\n      <td>1015675</td>\n      <td>309</td>\n      <td>29</td>\n      <td>1</td>\n      <td>5.0</td>\n      <td>...</td>\n      <td>294</td>\n      <td>400</td>\n      <td>80</td>\n      <td>489</td>\n      <td>340</td>\n      <td>491</td>\n      <td>612</td>\n      <td>282</td>\n      <td>462</td>\n      <td>259</td>\n    </tr>\n  </tbody>\n</table>\n<p>5 rows × 239 columns</p>\n</div>"
     },
     "execution_count": 3,
     "metadata": {},
     "output_type": "execute_result"
    }
   ],
   "source": [
    "data.head(5)"
   ],
   "metadata": {
    "collapsed": false,
    "pycharm": {
     "name": "#%%\n"
    }
   }
  },
  {
   "cell_type": "code",
   "execution_count": 4,
   "outputs": [
    {
     "data": {
      "text/plain": "   Id  MSSubClass MSZoning  LotFrontage  LotArea Street Alley LotShape  \\\n0   1          60       RL         65.0     8450   Pave   NaN      Reg   \n1   2          20       RL         80.0     9600   Pave   NaN      Reg   \n2   3          60       RL         68.0    11250   Pave   NaN      IR1   \n3   4          70       RL         60.0     9550   Pave   NaN      IR1   \n4   5          60       RL         84.0    14260   Pave   NaN      IR1   \n\n  LandContour Utilities  ... PoolArea PoolQC Fence MiscFeature MiscVal MoSold  \\\n0         Lvl    AllPub  ...        0    NaN   NaN         NaN       0      2   \n1         Lvl    AllPub  ...        0    NaN   NaN         NaN       0      5   \n2         Lvl    AllPub  ...        0    NaN   NaN         NaN       0      9   \n3         Lvl    AllPub  ...        0    NaN   NaN         NaN       0      2   \n4         Lvl    AllPub  ...        0    NaN   NaN         NaN       0     12   \n\n  YrSold  SaleType  SaleCondition  SalePrice  \n0   2008        WD         Normal     208500  \n1   2007        WD         Normal     181500  \n2   2008        WD         Normal     223500  \n3   2006        WD        Abnorml     140000  \n4   2008        WD         Normal     250000  \n\n[5 rows x 81 columns]",
      "text/html": "<div>\n<style scoped>\n    .dataframe tbody tr th:only-of-type {\n        vertical-align: middle;\n    }\n\n    .dataframe tbody tr th {\n        vertical-align: top;\n    }\n\n    .dataframe thead th {\n        text-align: right;\n    }\n</style>\n<table border=\"1\" class=\"dataframe\">\n  <thead>\n    <tr style=\"text-align: right;\">\n      <th></th>\n      <th>Id</th>\n      <th>MSSubClass</th>\n      <th>MSZoning</th>\n      <th>LotFrontage</th>\n      <th>LotArea</th>\n      <th>Street</th>\n      <th>Alley</th>\n      <th>LotShape</th>\n      <th>LandContour</th>\n      <th>Utilities</th>\n      <th>...</th>\n      <th>PoolArea</th>\n      <th>PoolQC</th>\n      <th>Fence</th>\n      <th>MiscFeature</th>\n      <th>MiscVal</th>\n      <th>MoSold</th>\n      <th>YrSold</th>\n      <th>SaleType</th>\n      <th>SaleCondition</th>\n      <th>SalePrice</th>\n    </tr>\n  </thead>\n  <tbody>\n    <tr>\n      <th>0</th>\n      <td>1</td>\n      <td>60</td>\n      <td>RL</td>\n      <td>65.0</td>\n      <td>8450</td>\n      <td>Pave</td>\n      <td>NaN</td>\n      <td>Reg</td>\n      <td>Lvl</td>\n      <td>AllPub</td>\n      <td>...</td>\n      <td>0</td>\n      <td>NaN</td>\n      <td>NaN</td>\n      <td>NaN</td>\n      <td>0</td>\n      <td>2</td>\n      <td>2008</td>\n      <td>WD</td>\n      <td>Normal</td>\n      <td>208500</td>\n    </tr>\n    <tr>\n      <th>1</th>\n      <td>2</td>\n      <td>20</td>\n      <td>RL</td>\n      <td>80.0</td>\n      <td>9600</td>\n      <td>Pave</td>\n      <td>NaN</td>\n      <td>Reg</td>\n      <td>Lvl</td>\n      <td>AllPub</td>\n      <td>...</td>\n      <td>0</td>\n      <td>NaN</td>\n      <td>NaN</td>\n      <td>NaN</td>\n      <td>0</td>\n      <td>5</td>\n      <td>2007</td>\n      <td>WD</td>\n      <td>Normal</td>\n      <td>181500</td>\n    </tr>\n    <tr>\n      <th>2</th>\n      <td>3</td>\n      <td>60</td>\n      <td>RL</td>\n      <td>68.0</td>\n      <td>11250</td>\n      <td>Pave</td>\n      <td>NaN</td>\n      <td>IR1</td>\n      <td>Lvl</td>\n      <td>AllPub</td>\n      <td>...</td>\n      <td>0</td>\n      <td>NaN</td>\n      <td>NaN</td>\n      <td>NaN</td>\n      <td>0</td>\n      <td>9</td>\n      <td>2008</td>\n      <td>WD</td>\n      <td>Normal</td>\n      <td>223500</td>\n    </tr>\n    <tr>\n      <th>3</th>\n      <td>4</td>\n      <td>70</td>\n      <td>RL</td>\n      <td>60.0</td>\n      <td>9550</td>\n      <td>Pave</td>\n      <td>NaN</td>\n      <td>IR1</td>\n      <td>Lvl</td>\n      <td>AllPub</td>\n      <td>...</td>\n      <td>0</td>\n      <td>NaN</td>\n      <td>NaN</td>\n      <td>NaN</td>\n      <td>0</td>\n      <td>2</td>\n      <td>2006</td>\n      <td>WD</td>\n      <td>Abnorml</td>\n      <td>140000</td>\n    </tr>\n    <tr>\n      <th>4</th>\n      <td>5</td>\n      <td>60</td>\n      <td>RL</td>\n      <td>84.0</td>\n      <td>14260</td>\n      <td>Pave</td>\n      <td>NaN</td>\n      <td>IR1</td>\n      <td>Lvl</td>\n      <td>AllPub</td>\n      <td>...</td>\n      <td>0</td>\n      <td>NaN</td>\n      <td>NaN</td>\n      <td>NaN</td>\n      <td>0</td>\n      <td>12</td>\n      <td>2008</td>\n      <td>WD</td>\n      <td>Normal</td>\n      <td>250000</td>\n    </tr>\n  </tbody>\n</table>\n<p>5 rows × 81 columns</p>\n</div>"
     },
     "execution_count": 4,
     "metadata": {},
     "output_type": "execute_result"
    }
   ],
   "source": [
    "house.head(5)"
   ],
   "metadata": {
    "collapsed": false,
    "pycharm": {
     "name": "#%%\n"
    }
   }
  },
  {
   "cell_type": "code",
   "execution_count": 5,
   "outputs": [
    {
     "name": "stdout",
     "output_type": "stream",
     "text": [
      "<class 'pandas.core.frame.DataFrame'>\n",
      "RangeIndex: 14931 entries, 0 to 14930\n",
      "Columns: 239 entries, RT to pwgtp80\n",
      "dtypes: float64(74), int64(162), object(3)\n",
      "memory usage: 27.2+ MB\n"
     ]
    }
   ],
   "source": [
    "# info\n",
    "data.info()"
   ],
   "metadata": {
    "collapsed": false,
    "pycharm": {
     "name": "#%%\n"
    }
   }
  },
  {
   "cell_type": "code",
   "execution_count": 6,
   "outputs": [
    {
     "name": "stdout",
     "output_type": "stream",
     "text": [
      "<class 'pandas.core.frame.DataFrame'>\n",
      "RangeIndex: 1460 entries, 0 to 1459\n",
      "Data columns (total 81 columns):\n",
      " #   Column         Non-Null Count  Dtype  \n",
      "---  ------         --------------  -----  \n",
      " 0   Id             1460 non-null   int64  \n",
      " 1   MSSubClass     1460 non-null   int64  \n",
      " 2   MSZoning       1460 non-null   object \n",
      " 3   LotFrontage    1201 non-null   float64\n",
      " 4   LotArea        1460 non-null   int64  \n",
      " 5   Street         1460 non-null   object \n",
      " 6   Alley          91 non-null     object \n",
      " 7   LotShape       1460 non-null   object \n",
      " 8   LandContour    1460 non-null   object \n",
      " 9   Utilities      1460 non-null   object \n",
      " 10  LotConfig      1460 non-null   object \n",
      " 11  LandSlope      1460 non-null   object \n",
      " 12  Neighborhood   1460 non-null   object \n",
      " 13  Condition1     1460 non-null   object \n",
      " 14  Condition2     1460 non-null   object \n",
      " 15  BldgType       1460 non-null   object \n",
      " 16  HouseStyle     1460 non-null   object \n",
      " 17  OverallQual    1460 non-null   int64  \n",
      " 18  OverallCond    1460 non-null   int64  \n",
      " 19  YearBuilt      1460 non-null   int64  \n",
      " 20  YearRemodAdd   1460 non-null   int64  \n",
      " 21  RoofStyle      1460 non-null   object \n",
      " 22  RoofMatl       1460 non-null   object \n",
      " 23  Exterior1st    1460 non-null   object \n",
      " 24  Exterior2nd    1460 non-null   object \n",
      " 25  MasVnrType     1452 non-null   object \n",
      " 26  MasVnrArea     1452 non-null   float64\n",
      " 27  ExterQual      1460 non-null   object \n",
      " 28  ExterCond      1460 non-null   object \n",
      " 29  Foundation     1460 non-null   object \n",
      " 30  BsmtQual       1423 non-null   object \n",
      " 31  BsmtCond       1423 non-null   object \n",
      " 32  BsmtExposure   1422 non-null   object \n",
      " 33  BsmtFinType1   1423 non-null   object \n",
      " 34  BsmtFinSF1     1460 non-null   int64  \n",
      " 35  BsmtFinType2   1422 non-null   object \n",
      " 36  BsmtFinSF2     1460 non-null   int64  \n",
      " 37  BsmtUnfSF      1460 non-null   int64  \n",
      " 38  TotalBsmtSF    1460 non-null   int64  \n",
      " 39  Heating        1460 non-null   object \n",
      " 40  HeatingQC      1460 non-null   object \n",
      " 41  CentralAir     1460 non-null   object \n",
      " 42  Electrical     1459 non-null   object \n",
      " 43  1stFlrSF       1460 non-null   int64  \n",
      " 44  2ndFlrSF       1460 non-null   int64  \n",
      " 45  LowQualFinSF   1460 non-null   int64  \n",
      " 46  GrLivArea      1460 non-null   int64  \n",
      " 47  BsmtFullBath   1460 non-null   int64  \n",
      " 48  BsmtHalfBath   1460 non-null   int64  \n",
      " 49  FullBath       1460 non-null   int64  \n",
      " 50  HalfBath       1460 non-null   int64  \n",
      " 51  BedroomAbvGr   1460 non-null   int64  \n",
      " 52  KitchenAbvGr   1460 non-null   int64  \n",
      " 53  KitchenQual    1460 non-null   object \n",
      " 54  TotRmsAbvGrd   1460 non-null   int64  \n",
      " 55  Functional     1460 non-null   object \n",
      " 56  Fireplaces     1460 non-null   int64  \n",
      " 57  FireplaceQu    770 non-null    object \n",
      " 58  GarageType     1379 non-null   object \n",
      " 59  GarageYrBlt    1379 non-null   float64\n",
      " 60  GarageFinish   1379 non-null   object \n",
      " 61  GarageCars     1460 non-null   int64  \n",
      " 62  GarageArea     1460 non-null   int64  \n",
      " 63  GarageQual     1379 non-null   object \n",
      " 64  GarageCond     1379 non-null   object \n",
      " 65  PavedDrive     1460 non-null   object \n",
      " 66  WoodDeckSF     1460 non-null   int64  \n",
      " 67  OpenPorchSF    1460 non-null   int64  \n",
      " 68  EnclosedPorch  1460 non-null   int64  \n",
      " 69  3SsnPorch      1460 non-null   int64  \n",
      " 70  ScreenPorch    1460 non-null   int64  \n",
      " 71  PoolArea       1460 non-null   int64  \n",
      " 72  PoolQC         7 non-null      object \n",
      " 73  Fence          281 non-null    object \n",
      " 74  MiscFeature    54 non-null     object \n",
      " 75  MiscVal        1460 non-null   int64  \n",
      " 76  MoSold         1460 non-null   int64  \n",
      " 77  YrSold         1460 non-null   int64  \n",
      " 78  SaleType       1460 non-null   object \n",
      " 79  SaleCondition  1460 non-null   object \n",
      " 80  SalePrice      1460 non-null   int64  \n",
      "dtypes: float64(3), int64(35), object(43)\n",
      "memory usage: 924.0+ KB\n"
     ]
    }
   ],
   "source": [
    "house.info()"
   ],
   "metadata": {
    "collapsed": false,
    "pycharm": {
     "name": "#%%\n"
    }
   }
  },
  {
   "cell_type": "code",
   "execution_count": 10,
   "outputs": [],
   "source": [
    "masked_data = data.isna()\n",
    "masked_house = house.isna()"
   ],
   "metadata": {
    "collapsed": false,
    "pycharm": {
     "name": "#%%\n"
    }
   }
  },
  {
   "cell_type": "code",
   "execution_count": 8,
   "outputs": [
    {
     "data": {
      "text/plain": "GCM       14827\nGCR       14724\nSFR       14702\nSFN       14702\nDECADE    14122\n          ...  \nFWAGP         0\nFSSP          0\nFSSIP         0\nFSEXP         0\nRT            0\nLength: 239, dtype: int64"
     },
     "execution_count": 8,
     "metadata": {},
     "output_type": "execute_result"
    }
   ],
   "source": [
    "masked_data.sum().sort_values(ascending=False)"
   ],
   "metadata": {
    "collapsed": false,
    "pycharm": {
     "name": "#%%\n"
    }
   }
  },
  {
   "cell_type": "code",
   "execution_count": 11,
   "outputs": [
    {
     "data": {
      "text/plain": "PoolQC           1453\nMiscFeature      1406\nAlley            1369\nFence            1179\nFireplaceQu       690\n                 ... \nCentralAir          0\nSaleCondition       0\nHeating             0\nTotalBsmtSF         0\nId                  0\nLength: 81, dtype: int64"
     },
     "execution_count": 11,
     "metadata": {},
     "output_type": "execute_result"
    }
   ],
   "source": [
    "masked_house.sum().sort_values(ascending=False)"
   ],
   "metadata": {
    "collapsed": false,
    "pycharm": {
     "name": "#%%\n"
    }
   }
  },
  {
   "cell_type": "code",
   "execution_count": 37,
   "outputs": [],
   "source": [
    "# nominal data\n",
    "data_nom = data.select_dtypes(include=np.object)\n",
    "house_nom = house.select_dtypes(include=np.object)"
   ],
   "metadata": {
    "collapsed": false,
    "pycharm": {
     "name": "#%%\n"
    }
   }
  },
  {
   "cell_type": "code",
   "execution_count": 13,
   "outputs": [
    {
     "data": {
      "text/plain": "      RT NAICSP    SOCP\n0      P  5617Z  371011\n1      P  611M1  253000\n2      P   722Z  352010\n3      P    NaN     NaN\n4      P   928P  493011\n...   ..    ...     ...\n14926  P   722Z  352010\n14927  P   6231  311010\n14928  P   4244  537061\n14929  P   722Z  353022\n14930  P  4441Z  411011\n\n[14931 rows x 3 columns]",
      "text/html": "<div>\n<style scoped>\n    .dataframe tbody tr th:only-of-type {\n        vertical-align: middle;\n    }\n\n    .dataframe tbody tr th {\n        vertical-align: top;\n    }\n\n    .dataframe thead th {\n        text-align: right;\n    }\n</style>\n<table border=\"1\" class=\"dataframe\">\n  <thead>\n    <tr style=\"text-align: right;\">\n      <th></th>\n      <th>RT</th>\n      <th>NAICSP</th>\n      <th>SOCP</th>\n    </tr>\n  </thead>\n  <tbody>\n    <tr>\n      <th>0</th>\n      <td>P</td>\n      <td>5617Z</td>\n      <td>371011</td>\n    </tr>\n    <tr>\n      <th>1</th>\n      <td>P</td>\n      <td>611M1</td>\n      <td>253000</td>\n    </tr>\n    <tr>\n      <th>2</th>\n      <td>P</td>\n      <td>722Z</td>\n      <td>352010</td>\n    </tr>\n    <tr>\n      <th>3</th>\n      <td>P</td>\n      <td>NaN</td>\n      <td>NaN</td>\n    </tr>\n    <tr>\n      <th>4</th>\n      <td>P</td>\n      <td>928P</td>\n      <td>493011</td>\n    </tr>\n    <tr>\n      <th>...</th>\n      <td>...</td>\n      <td>...</td>\n      <td>...</td>\n    </tr>\n    <tr>\n      <th>14926</th>\n      <td>P</td>\n      <td>722Z</td>\n      <td>352010</td>\n    </tr>\n    <tr>\n      <th>14927</th>\n      <td>P</td>\n      <td>6231</td>\n      <td>311010</td>\n    </tr>\n    <tr>\n      <th>14928</th>\n      <td>P</td>\n      <td>4244</td>\n      <td>537061</td>\n    </tr>\n    <tr>\n      <th>14929</th>\n      <td>P</td>\n      <td>722Z</td>\n      <td>353022</td>\n    </tr>\n    <tr>\n      <th>14930</th>\n      <td>P</td>\n      <td>4441Z</td>\n      <td>411011</td>\n    </tr>\n  </tbody>\n</table>\n<p>14931 rows × 3 columns</p>\n</div>"
     },
     "execution_count": 13,
     "metadata": {},
     "output_type": "execute_result"
    }
   ],
   "source": [
    "data_nom"
   ],
   "metadata": {
    "collapsed": false,
    "pycharm": {
     "name": "#%%\n"
    }
   }
  },
  {
   "cell_type": "code",
   "execution_count": 30,
   "outputs": [
    {
     "data": {
      "text/plain": "     MSZoning Street Alley LotShape LandContour Utilities LotConfig LandSlope  \\\n0          RL   Pave   NaN      Reg         Lvl    AllPub    Inside       Gtl   \n1          RL   Pave   NaN      Reg         Lvl    AllPub       FR2       Gtl   \n2          RL   Pave   NaN      IR1         Lvl    AllPub    Inside       Gtl   \n3          RL   Pave   NaN      IR1         Lvl    AllPub    Corner       Gtl   \n4          RL   Pave   NaN      IR1         Lvl    AllPub       FR2       Gtl   \n...       ...    ...   ...      ...         ...       ...       ...       ...   \n1455       RL   Pave   NaN      Reg         Lvl    AllPub    Inside       Gtl   \n1456       RL   Pave   NaN      Reg         Lvl    AllPub    Inside       Gtl   \n1457       RL   Pave   NaN      Reg         Lvl    AllPub    Inside       Gtl   \n1458       RL   Pave   NaN      Reg         Lvl    AllPub    Inside       Gtl   \n1459       RL   Pave   NaN      Reg         Lvl    AllPub    Inside       Gtl   \n\n     Neighborhood Condition1  ... GarageType GarageFinish GarageQual  \\\n0         CollgCr       Norm  ...     Attchd          RFn         TA   \n1         Veenker      Feedr  ...     Attchd          RFn         TA   \n2         CollgCr       Norm  ...     Attchd          RFn         TA   \n3         Crawfor       Norm  ...     Detchd          Unf         TA   \n4         NoRidge       Norm  ...     Attchd          RFn         TA   \n...           ...        ...  ...        ...          ...        ...   \n1455      Gilbert       Norm  ...     Attchd          RFn         TA   \n1456       NWAmes       Norm  ...     Attchd          Unf         TA   \n1457      Crawfor       Norm  ...     Attchd          RFn         TA   \n1458        NAmes       Norm  ...     Attchd          Unf         TA   \n1459      Edwards       Norm  ...     Attchd          Fin         TA   \n\n     GarageCond PavedDrive PoolQC  Fence MiscFeature SaleType SaleCondition  \n0            TA          Y    NaN    NaN         NaN       WD        Normal  \n1            TA          Y    NaN    NaN         NaN       WD        Normal  \n2            TA          Y    NaN    NaN         NaN       WD        Normal  \n3            TA          Y    NaN    NaN         NaN       WD       Abnorml  \n4            TA          Y    NaN    NaN         NaN       WD        Normal  \n...         ...        ...    ...    ...         ...      ...           ...  \n1455         TA          Y    NaN    NaN         NaN       WD        Normal  \n1456         TA          Y    NaN  MnPrv         NaN       WD        Normal  \n1457         TA          Y    NaN  GdPrv        Shed       WD        Normal  \n1458         TA          Y    NaN    NaN         NaN       WD        Normal  \n1459         TA          Y    NaN    NaN         NaN       WD        Normal  \n\n[1460 rows x 43 columns]",
      "text/html": "<div>\n<style scoped>\n    .dataframe tbody tr th:only-of-type {\n        vertical-align: middle;\n    }\n\n    .dataframe tbody tr th {\n        vertical-align: top;\n    }\n\n    .dataframe thead th {\n        text-align: right;\n    }\n</style>\n<table border=\"1\" class=\"dataframe\">\n  <thead>\n    <tr style=\"text-align: right;\">\n      <th></th>\n      <th>MSZoning</th>\n      <th>Street</th>\n      <th>Alley</th>\n      <th>LotShape</th>\n      <th>LandContour</th>\n      <th>Utilities</th>\n      <th>LotConfig</th>\n      <th>LandSlope</th>\n      <th>Neighborhood</th>\n      <th>Condition1</th>\n      <th>...</th>\n      <th>GarageType</th>\n      <th>GarageFinish</th>\n      <th>GarageQual</th>\n      <th>GarageCond</th>\n      <th>PavedDrive</th>\n      <th>PoolQC</th>\n      <th>Fence</th>\n      <th>MiscFeature</th>\n      <th>SaleType</th>\n      <th>SaleCondition</th>\n    </tr>\n  </thead>\n  <tbody>\n    <tr>\n      <th>0</th>\n      <td>RL</td>\n      <td>Pave</td>\n      <td>NaN</td>\n      <td>Reg</td>\n      <td>Lvl</td>\n      <td>AllPub</td>\n      <td>Inside</td>\n      <td>Gtl</td>\n      <td>CollgCr</td>\n      <td>Norm</td>\n      <td>...</td>\n      <td>Attchd</td>\n      <td>RFn</td>\n      <td>TA</td>\n      <td>TA</td>\n      <td>Y</td>\n      <td>NaN</td>\n      <td>NaN</td>\n      <td>NaN</td>\n      <td>WD</td>\n      <td>Normal</td>\n    </tr>\n    <tr>\n      <th>1</th>\n      <td>RL</td>\n      <td>Pave</td>\n      <td>NaN</td>\n      <td>Reg</td>\n      <td>Lvl</td>\n      <td>AllPub</td>\n      <td>FR2</td>\n      <td>Gtl</td>\n      <td>Veenker</td>\n      <td>Feedr</td>\n      <td>...</td>\n      <td>Attchd</td>\n      <td>RFn</td>\n      <td>TA</td>\n      <td>TA</td>\n      <td>Y</td>\n      <td>NaN</td>\n      <td>NaN</td>\n      <td>NaN</td>\n      <td>WD</td>\n      <td>Normal</td>\n    </tr>\n    <tr>\n      <th>2</th>\n      <td>RL</td>\n      <td>Pave</td>\n      <td>NaN</td>\n      <td>IR1</td>\n      <td>Lvl</td>\n      <td>AllPub</td>\n      <td>Inside</td>\n      <td>Gtl</td>\n      <td>CollgCr</td>\n      <td>Norm</td>\n      <td>...</td>\n      <td>Attchd</td>\n      <td>RFn</td>\n      <td>TA</td>\n      <td>TA</td>\n      <td>Y</td>\n      <td>NaN</td>\n      <td>NaN</td>\n      <td>NaN</td>\n      <td>WD</td>\n      <td>Normal</td>\n    </tr>\n    <tr>\n      <th>3</th>\n      <td>RL</td>\n      <td>Pave</td>\n      <td>NaN</td>\n      <td>IR1</td>\n      <td>Lvl</td>\n      <td>AllPub</td>\n      <td>Corner</td>\n      <td>Gtl</td>\n      <td>Crawfor</td>\n      <td>Norm</td>\n      <td>...</td>\n      <td>Detchd</td>\n      <td>Unf</td>\n      <td>TA</td>\n      <td>TA</td>\n      <td>Y</td>\n      <td>NaN</td>\n      <td>NaN</td>\n      <td>NaN</td>\n      <td>WD</td>\n      <td>Abnorml</td>\n    </tr>\n    <tr>\n      <th>4</th>\n      <td>RL</td>\n      <td>Pave</td>\n      <td>NaN</td>\n      <td>IR1</td>\n      <td>Lvl</td>\n      <td>AllPub</td>\n      <td>FR2</td>\n      <td>Gtl</td>\n      <td>NoRidge</td>\n      <td>Norm</td>\n      <td>...</td>\n      <td>Attchd</td>\n      <td>RFn</td>\n      <td>TA</td>\n      <td>TA</td>\n      <td>Y</td>\n      <td>NaN</td>\n      <td>NaN</td>\n      <td>NaN</td>\n      <td>WD</td>\n      <td>Normal</td>\n    </tr>\n    <tr>\n      <th>...</th>\n      <td>...</td>\n      <td>...</td>\n      <td>...</td>\n      <td>...</td>\n      <td>...</td>\n      <td>...</td>\n      <td>...</td>\n      <td>...</td>\n      <td>...</td>\n      <td>...</td>\n      <td>...</td>\n      <td>...</td>\n      <td>...</td>\n      <td>...</td>\n      <td>...</td>\n      <td>...</td>\n      <td>...</td>\n      <td>...</td>\n      <td>...</td>\n      <td>...</td>\n      <td>...</td>\n    </tr>\n    <tr>\n      <th>1455</th>\n      <td>RL</td>\n      <td>Pave</td>\n      <td>NaN</td>\n      <td>Reg</td>\n      <td>Lvl</td>\n      <td>AllPub</td>\n      <td>Inside</td>\n      <td>Gtl</td>\n      <td>Gilbert</td>\n      <td>Norm</td>\n      <td>...</td>\n      <td>Attchd</td>\n      <td>RFn</td>\n      <td>TA</td>\n      <td>TA</td>\n      <td>Y</td>\n      <td>NaN</td>\n      <td>NaN</td>\n      <td>NaN</td>\n      <td>WD</td>\n      <td>Normal</td>\n    </tr>\n    <tr>\n      <th>1456</th>\n      <td>RL</td>\n      <td>Pave</td>\n      <td>NaN</td>\n      <td>Reg</td>\n      <td>Lvl</td>\n      <td>AllPub</td>\n      <td>Inside</td>\n      <td>Gtl</td>\n      <td>NWAmes</td>\n      <td>Norm</td>\n      <td>...</td>\n      <td>Attchd</td>\n      <td>Unf</td>\n      <td>TA</td>\n      <td>TA</td>\n      <td>Y</td>\n      <td>NaN</td>\n      <td>MnPrv</td>\n      <td>NaN</td>\n      <td>WD</td>\n      <td>Normal</td>\n    </tr>\n    <tr>\n      <th>1457</th>\n      <td>RL</td>\n      <td>Pave</td>\n      <td>NaN</td>\n      <td>Reg</td>\n      <td>Lvl</td>\n      <td>AllPub</td>\n      <td>Inside</td>\n      <td>Gtl</td>\n      <td>Crawfor</td>\n      <td>Norm</td>\n      <td>...</td>\n      <td>Attchd</td>\n      <td>RFn</td>\n      <td>TA</td>\n      <td>TA</td>\n      <td>Y</td>\n      <td>NaN</td>\n      <td>GdPrv</td>\n      <td>Shed</td>\n      <td>WD</td>\n      <td>Normal</td>\n    </tr>\n    <tr>\n      <th>1458</th>\n      <td>RL</td>\n      <td>Pave</td>\n      <td>NaN</td>\n      <td>Reg</td>\n      <td>Lvl</td>\n      <td>AllPub</td>\n      <td>Inside</td>\n      <td>Gtl</td>\n      <td>NAmes</td>\n      <td>Norm</td>\n      <td>...</td>\n      <td>Attchd</td>\n      <td>Unf</td>\n      <td>TA</td>\n      <td>TA</td>\n      <td>Y</td>\n      <td>NaN</td>\n      <td>NaN</td>\n      <td>NaN</td>\n      <td>WD</td>\n      <td>Normal</td>\n    </tr>\n    <tr>\n      <th>1459</th>\n      <td>RL</td>\n      <td>Pave</td>\n      <td>NaN</td>\n      <td>Reg</td>\n      <td>Lvl</td>\n      <td>AllPub</td>\n      <td>Inside</td>\n      <td>Gtl</td>\n      <td>Edwards</td>\n      <td>Norm</td>\n      <td>...</td>\n      <td>Attchd</td>\n      <td>Fin</td>\n      <td>TA</td>\n      <td>TA</td>\n      <td>Y</td>\n      <td>NaN</td>\n      <td>NaN</td>\n      <td>NaN</td>\n      <td>WD</td>\n      <td>Normal</td>\n    </tr>\n  </tbody>\n</table>\n<p>1460 rows × 43 columns</p>\n</div>"
     },
     "execution_count": 30,
     "metadata": {},
     "output_type": "execute_result"
    }
   ],
   "source": [
    "house_nom"
   ],
   "metadata": {
    "collapsed": false,
    "pycharm": {
     "name": "#%%\n"
    }
   }
  },
  {
   "cell_type": "code",
   "execution_count": 40,
   "outputs": [
    {
     "data": {
      "text/plain": "Index(['Street', 'Alley', 'LotShape', 'LandContour', 'Utilities', 'LotConfig',\n       'LandSlope', 'Neighborhood', 'Condition1', 'Condition2', 'BldgType',\n       'HouseStyle', 'RoofStyle', 'RoofMatl', 'Exterior1st', 'Exterior2nd',\n       'MasVnrType', 'ExterQual', 'ExterCond', 'Foundation', 'BsmtQual',\n       'BsmtCond', 'BsmtExposure', 'BsmtFinType1', 'BsmtFinType2', 'Heating',\n       'HeatingQC', 'CentralAir', 'Electrical', 'KitchenQual', 'Functional',\n       'FireplaceQu', 'GarageType', 'GarageFinish', 'GarageQual', 'GarageCond',\n       'PavedDrive', 'PoolQC', 'Fence', 'MiscFeature', 'SaleType',\n       'SaleCondition'],\n      dtype='object')"
     },
     "execution_count": 40,
     "metadata": {},
     "output_type": "execute_result"
    }
   ],
   "source": [
    "house_nom.columns"
   ],
   "metadata": {
    "collapsed": false,
    "pycharm": {
     "name": "#%%\n"
    }
   }
  },
  {
   "cell_type": "code",
   "execution_count": 43,
   "outputs": [
    {
     "data": {
      "text/plain": "array(['Pave', 'Grvl'], dtype=object)"
     },
     "execution_count": 43,
     "metadata": {},
     "output_type": "execute_result"
    }
   ],
   "source": [
    "# convert nominal data into relative scale\n",
    "# with 1 to n numbers\n",
    "house_nom['Street'].unique()"
   ],
   "metadata": {
    "collapsed": false,
    "pycharm": {
     "name": "#%%\n"
    }
   }
  },
  {
   "cell_type": "code",
   "execution_count": 31,
   "outputs": [
    {
     "data": {
      "text/plain": "RL         1151\nRM          218\nFV           65\nRH           16\nC (all)      10\nName: MSZoning, dtype: int64"
     },
     "execution_count": 31,
     "metadata": {},
     "output_type": "execute_result"
    }
   ],
   "source": [
    "house_nom['MSZoning'].value_counts()"
   ],
   "metadata": {
    "collapsed": false,
    "pycharm": {
     "name": "#%%\n"
    }
   }
  },
  {
   "cell_type": "code",
   "execution_count": 36,
   "outputs": [],
   "source": [
    "# RL -> 1, RM -> 2, FV -> 3, RH -> 4, C (all) -> 5\n",
    "replacer = {'RL':1,'RM':2,'FV':3,'RH':4,'C (all)':5}\n",
    "house['MSZoning'].replace(replacer,inplace=True)"
   ],
   "metadata": {
    "collapsed": false,
    "pycharm": {
     "name": "#%%\n"
    }
   }
  },
  {
   "cell_type": "code",
   "execution_count": 39,
   "outputs": [
    {
     "data": {
      "text/plain": "0       1\n1       1\n2       1\n3       1\n4       1\n       ..\n1455    1\n1456    1\n1457    1\n1458    1\n1459    1\nName: MSZoning, Length: 1460, dtype: int64"
     },
     "execution_count": 39,
     "metadata": {},
     "output_type": "execute_result"
    }
   ],
   "source": [
    "house['MSZoning']"
   ],
   "metadata": {
    "collapsed": false,
    "pycharm": {
     "name": "#%%\n"
    }
   }
  },
  {
   "cell_type": "code",
   "execution_count": null,
   "outputs": [],
   "source": [],
   "metadata": {
    "collapsed": false,
    "pycharm": {
     "name": "#%%\n"
    }
   }
  }
 ],
 "metadata": {
  "kernelspec": {
   "display_name": "Python 3",
   "language": "python",
   "name": "python3"
  },
  "language_info": {
   "codemirror_mode": {
    "name": "ipython",
    "version": 2
   },
   "file_extension": ".py",
   "mimetype": "text/x-python",
   "name": "python",
   "nbconvert_exporter": "python",
   "pygments_lexer": "ipython2",
   "version": "2.7.6"
  }
 },
 "nbformat": 4,
 "nbformat_minor": 0
}