{
 "cells": [
  {
   "cell_type": "code",
   "execution_count": 1,
   "metadata": {
    "collapsed": true
   },
   "outputs": [],
   "source": [
    "import numpy as np\n",
    "import pandas as pd\n",
    "import seaborn as sns\n",
    "from missingno import matrix as mm\n",
    "from matplotlib import pyplot as plt"
   ]
  },
  {
   "cell_type": "code",
   "execution_count": 2,
   "outputs": [
    {
     "data": {
      "text/plain": "  RT  SERIALNO  SPORDER  PUMA  ST   ADJUST  PWGTP  AGEP  CIT  COW  ...  \\\n0  P       186        1   700  16  1015675     89    43    1  7.0  ...   \n1  P       186        2   700  16  1015675     92    42    1  4.0  ...   \n2  P       186        3   700  16  1015675    107    16    1  1.0  ...   \n3  P       186        4   700  16  1015675     91    14    1  NaN  ...   \n4  P       306        1   700  16  1015675    309    29    1  5.0  ...   \n\n   pwgtp71  pwgtp72  pwgtp73  pwgtp74  pwgtp75  pwgtp76  pwgtp77  pwgtp78  \\\n0       82       27       92      150       28       78       25       99   \n1       84       26       90      159       30       87       27       98   \n2       90       28       92      177       33      105       30      104   \n3       81       28       94      164       29       88       27      104   \n4      294      400       80      489      340      491      612      282   \n\n   pwgtp79  pwgtp80  \n0      159      129  \n1      167      131  \n2      206      156  \n3      156      138  \n4      462      259  \n\n[5 rows x 239 columns]",
      "text/html": "<div>\n<style scoped>\n    .dataframe tbody tr th:only-of-type {\n        vertical-align: middle;\n    }\n\n    .dataframe tbody tr th {\n        vertical-align: top;\n    }\n\n    .dataframe thead th {\n        text-align: right;\n    }\n</style>\n<table border=\"1\" class=\"dataframe\">\n  <thead>\n    <tr style=\"text-align: right;\">\n      <th></th>\n      <th>RT</th>\n      <th>SERIALNO</th>\n      <th>SPORDER</th>\n      <th>PUMA</th>\n      <th>ST</th>\n      <th>ADJUST</th>\n      <th>PWGTP</th>\n      <th>AGEP</th>\n      <th>CIT</th>\n      <th>COW</th>\n      <th>...</th>\n      <th>pwgtp71</th>\n      <th>pwgtp72</th>\n      <th>pwgtp73</th>\n      <th>pwgtp74</th>\n      <th>pwgtp75</th>\n      <th>pwgtp76</th>\n      <th>pwgtp77</th>\n      <th>pwgtp78</th>\n      <th>pwgtp79</th>\n      <th>pwgtp80</th>\n    </tr>\n  </thead>\n  <tbody>\n    <tr>\n      <th>0</th>\n      <td>P</td>\n      <td>186</td>\n      <td>1</td>\n      <td>700</td>\n      <td>16</td>\n      <td>1015675</td>\n      <td>89</td>\n      <td>43</td>\n      <td>1</td>\n      <td>7.0</td>\n      <td>...</td>\n      <td>82</td>\n      <td>27</td>\n      <td>92</td>\n      <td>150</td>\n      <td>28</td>\n      <td>78</td>\n      <td>25</td>\n      <td>99</td>\n      <td>159</td>\n      <td>129</td>\n    </tr>\n    <tr>\n      <th>1</th>\n      <td>P</td>\n      <td>186</td>\n      <td>2</td>\n      <td>700</td>\n      <td>16</td>\n      <td>1015675</td>\n      <td>92</td>\n      <td>42</td>\n      <td>1</td>\n      <td>4.0</td>\n      <td>...</td>\n      <td>84</td>\n      <td>26</td>\n      <td>90</td>\n      <td>159</td>\n      <td>30</td>\n      <td>87</td>\n      <td>27</td>\n      <td>98</td>\n      <td>167</td>\n      <td>131</td>\n    </tr>\n    <tr>\n      <th>2</th>\n      <td>P</td>\n      <td>186</td>\n      <td>3</td>\n      <td>700</td>\n      <td>16</td>\n      <td>1015675</td>\n      <td>107</td>\n      <td>16</td>\n      <td>1</td>\n      <td>1.0</td>\n      <td>...</td>\n      <td>90</td>\n      <td>28</td>\n      <td>92</td>\n      <td>177</td>\n      <td>33</td>\n      <td>105</td>\n      <td>30</td>\n      <td>104</td>\n      <td>206</td>\n      <td>156</td>\n    </tr>\n    <tr>\n      <th>3</th>\n      <td>P</td>\n      <td>186</td>\n      <td>4</td>\n      <td>700</td>\n      <td>16</td>\n      <td>1015675</td>\n      <td>91</td>\n      <td>14</td>\n      <td>1</td>\n      <td>NaN</td>\n      <td>...</td>\n      <td>81</td>\n      <td>28</td>\n      <td>94</td>\n      <td>164</td>\n      <td>29</td>\n      <td>88</td>\n      <td>27</td>\n      <td>104</td>\n      <td>156</td>\n      <td>138</td>\n    </tr>\n    <tr>\n      <th>4</th>\n      <td>P</td>\n      <td>306</td>\n      <td>1</td>\n      <td>700</td>\n      <td>16</td>\n      <td>1015675</td>\n      <td>309</td>\n      <td>29</td>\n      <td>1</td>\n      <td>5.0</td>\n      <td>...</td>\n      <td>294</td>\n      <td>400</td>\n      <td>80</td>\n      <td>489</td>\n      <td>340</td>\n      <td>491</td>\n      <td>612</td>\n      <td>282</td>\n      <td>462</td>\n      <td>259</td>\n    </tr>\n  </tbody>\n</table>\n<p>5 rows × 239 columns</p>\n</div>"
     },
     "execution_count": 2,
     "metadata": {},
     "output_type": "execute_result"
    }
   ],
   "source": [
    "data = pd.read_csv('../../data/amsc.csv')\n",
    "data.head(5)"
   ],
   "metadata": {
    "collapsed": false,
    "pycharm": {
     "name": "#%%\n"
    }
   }
  },
  {
   "cell_type": "code",
   "execution_count": 3,
   "outputs": [
    {
     "name": "stdout",
     "output_type": "stream",
     "text": [
      "<class 'pandas.core.frame.DataFrame'>\n",
      "RangeIndex: 14931 entries, 0 to 14930\n",
      "Columns: 239 entries, RT to pwgtp80\n",
      "dtypes: float64(74), int64(162), object(3)\n",
      "memory usage: 27.2+ MB\n"
     ]
    }
   ],
   "source": [
    "# info\n",
    "data.info()"
   ],
   "metadata": {
    "collapsed": false,
    "pycharm": {
     "name": "#%%\n"
    }
   }
  },
  {
   "cell_type": "code",
   "execution_count": 7,
   "outputs": [
    {
     "data": {
      "text/plain": "GCM       14827\nGCR       14724\nSFR       14702\nSFN       14702\nDECADE    14122\n          ...  \nFWAGP         0\nFSSP          0\nFSSIP         0\nFSEXP         0\nRT            0\nLength: 239, dtype: int64"
     },
     "execution_count": 7,
     "metadata": {},
     "output_type": "execute_result"
    }
   ],
   "source": [
    "mask = data.isna()\n",
    "mask.sum().sort_values(ascending=False)"
   ],
   "metadata": {
    "collapsed": false,
    "pycharm": {
     "name": "#%%\n"
    }
   }
  },
  {
   "cell_type": "code",
   "execution_count": null,
   "outputs": [],
   "source": [],
   "metadata": {
    "collapsed": false,
    "pycharm": {
     "name": "#%%\n"
    }
   }
  }
 ],
 "metadata": {
  "kernelspec": {
   "display_name": "Python 3",
   "language": "python",
   "name": "python3"
  },
  "language_info": {
   "codemirror_mode": {
    "name": "ipython",
    "version": 2
   },
   "file_extension": ".py",
   "mimetype": "text/x-python",
   "name": "python",
   "nbconvert_exporter": "python",
   "pygments_lexer": "ipython2",
   "version": "2.7.6"
  }
 },
 "nbformat": 4,
 "nbformat_minor": 0
}