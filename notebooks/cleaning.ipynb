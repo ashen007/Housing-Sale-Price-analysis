{
 "cells": [
  {
   "cell_type": "code",
   "execution_count": null,
   "outputs": [],
   "source": [
    "import numpy as np\n",
    "import scipy as sp\n",
    "import pandas as pd\n",
    "import seaborn as sns\n",
    "import missingno as mo\n",
    "from matplotlib import pyplot as plt"
   ],
   "metadata": {
    "collapsed": false,
    "pycharm": {
     "name": "#%%\n"
    }
   }
  },
  {
   "cell_type": "code",
   "execution_count": null,
   "outputs": [],
   "source": [
    "train = pd.read_csv('../data/train.csv',index_col='Id')"
   ],
   "metadata": {
    "collapsed": false,
    "pycharm": {
     "name": "#%%\n"
    }
   }
  },
  {
   "cell_type": "code",
   "execution_count": null,
   "outputs": [],
   "source": [
    "train.head(5)"
   ],
   "metadata": {
    "collapsed": false,
    "pycharm": {
     "name": "#%%\n"
    }
   }
  },
  {
   "cell_type": "markdown",
   "source": [
    "### find missing values"
   ],
   "metadata": {
    "collapsed": false
   }
  },
  {
   "cell_type": "code",
   "execution_count": null,
   "outputs": [],
   "source": [
    "plt.figure(figsize=[12,6],dpi=300)\n",
    "mo.matrix(train.select_dtypes(include=np.number))\n",
    "plt.show()"
   ],
   "metadata": {
    "collapsed": false,
    "pycharm": {
     "name": "#%%\n"
    }
   }
  },
  {
   "cell_type": "code",
   "execution_count": null,
   "outputs": [],
   "source": [
    "plt.figure(figsize=[12,6],dpi=300)\n",
    "mo.matrix(train.select_dtypes(include=np.object))\n",
    "plt.show()"
   ],
   "metadata": {
    "collapsed": false,
    "pycharm": {
     "name": "#%%\n"
    }
   }
  },
  {
   "cell_type": "code",
   "execution_count": null,
   "outputs": [],
   "source": [
    "# train data\n",
    "mask = train.isna().sum()\n",
    "mask = mask[mask>0].sort_values(ascending=False)\n",
    "mask"
   ],
   "metadata": {
    "collapsed": false,
    "pycharm": {
     "name": "#%%\n"
    }
   }
  },
  {
   "cell_type": "code",
   "execution_count": null,
   "outputs": [],
   "source": [
    "mask.index"
   ],
   "metadata": {
    "collapsed": false,
    "pycharm": {
     "name": "#%%\n"
    }
   }
  },
  {
   "cell_type": "code",
   "execution_count": null,
   "outputs": [],
   "source": [
    "num_feature_miss = train[mask.index].select_dtypes(include=np.number)\n",
    "cat_feature_miss = train[mask.index].select_dtypes(include=np.object)"
   ],
   "metadata": {
    "collapsed": false,
    "pycharm": {
     "name": "#%%\n"
    }
   }
  },
  {
   "cell_type": "code",
   "execution_count": null,
   "outputs": [],
   "source": [
    "np.mean(num_feature_miss['LotFrontage'])"
   ],
   "metadata": {
    "collapsed": false,
    "pycharm": {
     "name": "#%%\n"
    }
   }
  },
  {
   "cell_type": "code",
   "execution_count": null,
   "outputs": [],
   "source": [
    "# impute lotfrontarea\n",
    "impute_with = train[['Street','LotFrontage']].groupby(by='Street')['LotFrontage'].mean().to_dict()\n",
    "impute_with"
   ],
   "metadata": {
    "collapsed": false,
    "pycharm": {
     "name": "#%%\n"
    }
   }
  },
  {
   "cell_type": "code",
   "execution_count": null,
   "outputs": [],
   "source": [
    "replace_with = train.Street.map(impute_with)\n",
    "train['LotFrontage'] = np.where(train.LotFrontage.isna(),replace_with,train.LotFrontage)"
   ],
   "metadata": {
    "collapsed": false,
    "pycharm": {
     "name": "#%%\n"
    }
   }
  },
  {
   "cell_type": "code",
   "execution_count": null,
   "outputs": [],
   "source": [
    "train[['LotFrontage']].info()"
   ],
   "metadata": {
    "collapsed": false,
    "pycharm": {
     "name": "#%%\n"
    }
   }
  },
  {
   "cell_type": "code",
   "execution_count": null,
   "outputs": [],
   "source": [
    "# impute garage built year\n",
    "num_feature_miss[['GarageYrBlt']].info()"
   ],
   "metadata": {
    "collapsed": false,
    "pycharm": {
     "name": "#%%\n"
    }
   }
  },
  {
   "cell_type": "code",
   "execution_count": null,
   "outputs": [],
   "source": [
    "train['GarageYrBlt'].fillna(value=0, inplace=True)"
   ],
   "metadata": {
    "collapsed": false,
    "pycharm": {
     "name": "#%%\n"
    }
   }
  },
  {
   "cell_type": "code",
   "execution_count": null,
   "outputs": [],
   "source": [
    "plt.figure(figsize=[24,6],dpi=300)\n",
    "g = sns.countplot(x=train['GarageYrBlt'],palette='viridis')\n",
    "g.set_xticklabels(g.get_xticklabels(),rotation=90)\n",
    "plt.show()"
   ],
   "metadata": {
    "collapsed": false,
    "pycharm": {
     "name": "#%%\n"
    }
   }
  },
  {
   "cell_type": "code",
   "execution_count": null,
   "outputs": [],
   "source": [
    "train['GarageYrBlt'] = train['GarageYrBlt'].astype(int)\n",
    "train['GarageYrBlt']"
   ],
   "metadata": {
    "collapsed": false,
    "pycharm": {
     "name": "#%%\n"
    }
   }
  },
  {
   "cell_type": "code",
   "execution_count": null,
   "outputs": [],
   "source": [
    "num_feature_miss[['MasVnrArea']].info()"
   ],
   "metadata": {
    "collapsed": false,
    "pycharm": {
     "name": "#%%\n"
    }
   }
  },
  {
   "cell_type": "code",
   "execution_count": null,
   "outputs": [],
   "source": [
    "# impute masvnrarea and msvnrtype\n",
    "impute_with = train[['MasVnrArea','MasVnrType']].groupby(by='MasVnrType')['MasVnrArea'].mean().to_dict()\n",
    "impute_with"
   ],
   "metadata": {
    "collapsed": false,
    "pycharm": {
     "name": "#%%\n"
    }
   }
  },
  {
   "cell_type": "code",
   "execution_count": null,
   "outputs": [],
   "source": [
    "train[['HouseStyle','MasVnrType']].groupby(by=['HouseStyle','MasVnrType'])['MasVnrType'].count()/train.shape[0]"
   ],
   "metadata": {
    "collapsed": false,
    "pycharm": {
     "name": "#%%\n"
    }
   }
  },
  {
   "cell_type": "code",
   "execution_count": null,
   "outputs": [],
   "source": [
    "impute_with = {'1.5Fin':'None',\n",
    "               '1.5Unf':'None',\n",
    "               '1Story':'Stone',\n",
    "               '2.5Fin':'None',\n",
    "               '2.5Unf':'None',\n",
    "               '2Story':'None',\n",
    "               'SFoyer':'None',\n",
    "               'SLvl':'BrkFace'}\n",
    "replace_with = train.HouseStyle.map(impute_with)\n",
    "train['MasVnrType'] = np.where(train.MasVnrType.isna(),replace_with,train.MasVnrType)"
   ],
   "metadata": {
    "collapsed": false,
    "pycharm": {
     "name": "#%%\n"
    }
   }
  },
  {
   "cell_type": "code",
   "execution_count": null,
   "outputs": [],
   "source": [
    "train[['MasVnrType']].info()"
   ],
   "metadata": {
    "collapsed": false,
    "pycharm": {
     "name": "#%%\n"
    }
   }
  },
  {
   "cell_type": "code",
   "execution_count": null,
   "outputs": [],
   "source": [
    "impute_with = train[['MasVnrArea','MasVnrType']].groupby(by=['MasVnrType'])['MasVnrArea'].mean().to_dict()\n",
    "impute_with"
   ],
   "metadata": {
    "collapsed": false,
    "pycharm": {
     "name": "#%%\n"
    }
   }
  },
  {
   "cell_type": "code",
   "execution_count": null,
   "outputs": [],
   "source": [
    "plt.figure(figsize=[12,6],dpi=300)\n",
    "g = sns.countplot(x=train['MasVnrType'],hue=train['HouseStyle'],palette='viridis')\n",
    "# g.set_xticklabels(g.get_xticklabels(),rotation=90)\n",
    "plt.show()"
   ],
   "metadata": {
    "collapsed": false,
    "pycharm": {
     "name": "#%%\n"
    }
   }
  },
  {
   "cell_type": "code",
   "execution_count": null,
   "outputs": [],
   "source": [
    "replace_with = train['MasVnrType'].map(impute_with)\n",
    "train['MasVnrArea'] = np.where(train.MasVnrArea.isna(),replace_with,train.MasVnrArea)"
   ],
   "metadata": {
    "collapsed": false,
    "pycharm": {
     "name": "#%%\n"
    }
   }
  },
  {
   "cell_type": "code",
   "execution_count": null,
   "outputs": [],
   "source": [
    "train[['MasVnrArea']].info()"
   ],
   "metadata": {
    "collapsed": false,
    "pycharm": {
     "name": "#%%\n"
    }
   }
  },
  {
   "cell_type": "code",
   "execution_count": null,
   "outputs": [],
   "source": [
    "# categorical feature imputation\n",
    "cat_feature_miss"
   ],
   "metadata": {
    "collapsed": false,
    "pycharm": {
     "name": "#%%\n"
    }
   }
  },
  {
   "cell_type": "code",
   "execution_count": null,
   "outputs": [],
   "source": [
    "train[['PoolQC','MiscFeature','Alley','Fence']] = train.loc[:,['PoolQC','MiscFeature','Alley','Fence']].fillna(value='None')"
   ],
   "metadata": {
    "collapsed": false,
    "pycharm": {
     "name": "#%%\n"
    }
   }
  },
  {
   "cell_type": "code",
   "execution_count": null,
   "outputs": [],
   "source": [
    "fig,axes = plt.subplots(nrows=2,ncols=2,figsize=[12,8],dpi=300)\n",
    "ax = axes.ravel()\n",
    "sns.countplot(x=train['PoolQC'],ax=ax[0],palette='viridis')\n",
    "sns.countplot(x=train['MiscFeature'],ax=ax[1],palette='viridis')\n",
    "sns.countplot(x=train['Alley'],ax=ax[2],palette='viridis')\n",
    "sns.countplot(x=train['Fence'],ax=ax[3],palette='viridis')\n",
    "plt.show()"
   ],
   "metadata": {
    "collapsed": false,
    "pycharm": {
     "name": "#%%\n"
    }
   }
  },
  {
   "cell_type": "code",
   "execution_count": null,
   "outputs": [],
   "source": [
    "train['FireplaceQu'].fillna(value='None',inplace=True)\n",
    "\n",
    "plt.figure(figsize=[12,6],dpi=300)\n",
    "sns.countplot(x=train['FireplaceQu'],palette='viridis')\n",
    "plt.show()"
   ],
   "metadata": {
    "collapsed": false,
    "pycharm": {
     "name": "#%%\n"
    }
   }
  },
  {
   "cell_type": "code",
   "execution_count": null,
   "outputs": [],
   "source": [
    "pd.options.display.max_rows = 81\n",
    "train[train['GarageType'].isna()][['GarageType','GarageFinish','GarageQual','GarageCond']]"
   ],
   "metadata": {
    "collapsed": false,
    "pycharm": {
     "name": "#%%\n"
    }
   }
  },
  {
   "cell_type": "code",
   "execution_count": null,
   "outputs": [],
   "source": [
    "train[['GarageType','GarageFinish','GarageQual','GarageCond']] = train.loc[:,['GarageType','GarageFinish','GarageQual','GarageCond']].fillna(value='None')"
   ],
   "metadata": {
    "collapsed": false,
    "pycharm": {
     "name": "#%%\n"
    }
   }
  },
  {
   "cell_type": "code",
   "execution_count": null,
   "outputs": [],
   "source": [
    "train[train['BsmtExposure'].isna()][['BsmtExposure','BsmtFinType2','BsmtQual','BsmtCond','BsmtFinType1']]"
   ],
   "metadata": {
    "collapsed": false,
    "pycharm": {
     "name": "#%%\n"
    }
   }
  },
  {
   "cell_type": "code",
   "execution_count": null,
   "outputs": [],
   "source": [
    "train[['BsmtQual','BsmtCond','BsmtFinType1']] = train.loc[:,['BsmtQual','BsmtCond','BsmtFinType1']].fillna(value='None')"
   ],
   "metadata": {
    "collapsed": false,
    "pycharm": {
     "name": "#%%\n"
    }
   }
  },
  {
   "cell_type": "code",
   "execution_count": null,
   "outputs": [],
   "source": [
    "plt.figure(figsize=[12,6],dpi=300)\n",
    "sns.countplot(x=train['BsmtCond'],palette='viridis')\n",
    "plt.show()"
   ],
   "metadata": {
    "collapsed": false,
    "pycharm": {
     "name": "#%%\n"
    }
   }
  },
  {
   "cell_type": "code",
   "execution_count": null,
   "outputs": [],
   "source": [
    "train[['BsmtCond','BsmtExposure']].groupby(by=['BsmtCond','BsmtExposure'])['BsmtExposure'].count()/train.shape[0]"
   ],
   "metadata": {
    "collapsed": false,
    "pycharm": {
     "name": "#%%\n"
    }
   }
  },
  {
   "cell_type": "code",
   "execution_count": null,
   "outputs": [],
   "source": [
    "impute_with = {'Fa':'No',\n",
    "               'Gd':'No',\n",
    "               'None':'None',\n",
    "               'Po':'Gd',\n",
    "               'TA':'No'}\n",
    "replace_with = train.BsmtCond.map(impute_with)\n",
    "train['BsmtExposure'] = np.where(train['BsmtExposure'].isna(),impute_with,train['BsmtExposure'])"
   ],
   "metadata": {
    "collapsed": false,
    "pycharm": {
     "name": "#%%\n"
    }
   }
  },
  {
   "cell_type": "code",
   "execution_count": null,
   "outputs": [],
   "source": [
    "train[['BsmtCond','BsmtFinType2']].groupby(by=['BsmtCond','BsmtFinType2'])['BsmtFinType2'].count()/train.shape[0]"
   ],
   "metadata": {
    "collapsed": false,
    "pycharm": {
     "name": "#%%\n"
    }
   }
  },
  {
   "cell_type": "code",
   "execution_count": null,
   "outputs": [],
   "source": [
    "impute_with = {'Fa':'Unf',\n",
    "               'Gd':'Unf',\n",
    "               'None':'None',\n",
    "               'Po':'Unf',\n",
    "               'TA':'Unf'}\n",
    "replace_with = train.BsmtCond.map(impute_with)\n",
    "train['BsmtFinType2'] = np.where(train['BsmtFinType2'].isna(),impute_with,train['BsmtFinType2'])"
   ],
   "metadata": {
    "collapsed": false,
    "pycharm": {
     "name": "#%%\n"
    }
   }
  },
  {
   "cell_type": "code",
   "execution_count": null,
   "outputs": [],
   "source": [
    "plt.figure(figsize=[12,6],dpi=300)\n",
    "sns.countplot(x=train['Electrical'],hue=train['HouseStyle'],palette='viridis')\n",
    "plt.show()"
   ],
   "metadata": {
    "collapsed": false,
    "pycharm": {
     "name": "#%%\n"
    }
   }
  },
  {
   "cell_type": "code",
   "execution_count": null,
   "outputs": [],
   "source": [
    "train[['HouseStyle','Electrical']].groupby(by=['HouseStyle','Electrical'])['Electrical'].count()/train.shape[0]"
   ],
   "metadata": {
    "collapsed": false,
    "pycharm": {
     "name": "#%%\n"
    }
   }
  },
  {
   "cell_type": "code",
   "execution_count": null,
   "outputs": [],
   "source": [
    "train[train['Electrical'].isna()]['HouseStyle']"
   ],
   "metadata": {
    "collapsed": false,
    "pycharm": {
     "name": "#%%\n"
    }
   }
  },
  {
   "cell_type": "code",
   "execution_count": null,
   "outputs": [],
   "source": [
    "train['Electrical'].fillna(value='SBrkr',inplace=True)"
   ],
   "metadata": {
    "collapsed": false,
    "pycharm": {
     "name": "#%%\n"
    }
   }
  },
  {
   "cell_type": "code",
   "execution_count": null,
   "outputs": [],
   "source": [
    "train[['Electrical']].info()"
   ],
   "metadata": {
    "collapsed": false,
    "pycharm": {
     "name": "#%%\n"
    }
   }
  },
  {
   "cell_type": "code",
   "execution_count": null,
   "outputs": [],
   "source": [
    "train.info()\n"
   ],
   "metadata": {
    "collapsed": false,
    "pycharm": {
     "name": "#%%\n"
    }
   }
  }
 ],
 "metadata": {
  "kernelspec": {
   "name": "pycharm-90e376eb",
   "language": "python",
   "display_name": "PyCharm (boston house price analysis)"
  },
  "language_info": {
   "codemirror_mode": {
    "name": "ipython",
    "version": 2
   },
   "file_extension": ".py",
   "mimetype": "text/x-python",
   "name": "python",
   "nbconvert_exporter": "python",
   "pygments_lexer": "ipython2",
   "version": "2.7.6"
  }
 },
 "nbformat": 4,
 "nbformat_minor": 0
}